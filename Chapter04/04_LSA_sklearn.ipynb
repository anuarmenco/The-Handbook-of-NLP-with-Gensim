{
  "cells": [
    {
      "cell_type": "markdown",
      "metadata": {
        "id": "rEhNKtq7Lx3u"
      },
      "source": [
        "## Latent Semantic Analysis / Indexing (LSA/LSI) Scikit-learn\n",
        "\n",
        "Learning goals\n",
        "* (A) Understand SVD using linear algebra\n",
        "* (B) Apply Truncated SVD for LSI\n",
        "\n"
      ]
    },
    {
      "cell_type": "code",
      "execution_count": 1,
      "metadata": {
        "colab": {
          "base_uri": "https://localhost:8080/"
        },
        "id": "ofXd5gWELGHu",
        "outputId": "744eacfd-d442-4cd8-df44-9301572925e6"
      },
      "outputs": [
        {
          "name": "stdout",
          "output_type": "stream",
          "text": [
            "Mounted at /content/gdrive\n"
          ]
        }
      ],
      "source": [
        "\n",
        "#from google.colab import drive\n",
        "#drive.mount('/content/gdrive')"
      ]
    },
    {
      "cell_type": "markdown",
      "metadata": {
        "id": "5Kn6I9PkC4IZ"
      },
      "source": [
        "### (A) Understand SVD using linear algebra"
      ]
    },
    {
      "cell_type": "code",
      "execution_count": 1,
      "metadata": {
        "colab": {
          "base_uri": "https://localhost:8080/"
        },
        "id": "cJAIGwmFHHv5",
        "outputId": "bb8ca2a9-42c1-4325-ab03-5fb66e5a02ac"
      },
      "outputs": [
        {
          "data": {
            "text/plain": [
              "array([[41,  2,  6,  8, 28],\n",
              "       [22,  5, 45, 27,  4],\n",
              "       [ 2, 18, 13, 26,  2],\n",
              "       [23, 40,  5, 47,  2],\n",
              "       [27,  7, 38,  4,  1],\n",
              "       [35, 13, 14, 32,  2],\n",
              "       [18, 30, 22, 49, 48],\n",
              "       [11, 19,  2, 46, 22],\n",
              "       [41, 33,  5,  6, 35],\n",
              "       [11, 12, 23, 13, 45],\n",
              "       [39, 14, 12, 43,  1],\n",
              "       [14, 12, 40, 17, 47],\n",
              "       [10, 18, 42, 41, 41],\n",
              "       [42,  1, 14, 18, 29],\n",
              "       [22, 28, 10, 43, 40]])"
            ]
          },
          "execution_count": 1,
          "metadata": {},
          "output_type": "execute_result"
        }
      ],
      "source": [
        "import numpy as np\n",
        "A = np.random.randint(low=1, high=50, size = (15,5))\n",
        "A"
      ]
    },
    {
      "cell_type": "code",
      "execution_count": 2,
      "metadata": {
        "colab": {
          "base_uri": "https://localhost:8080/"
        },
        "id": "J5U1IPezC3XL",
        "outputId": "ec103172-6b47-4efe-eae5-93c16f09adb1"
      },
      "outputs": [
        {
          "data": {
            "text/plain": [
              "((15, 15), (5,), (5, 5))"
            ]
          },
          "execution_count": 2,
          "metadata": {},
          "output_type": "execute_result"
        }
      ],
      "source": [
        "U, S, Vt = np.linalg.svd(A, full_matrices=True)\n",
        "U.shape, S.shape, Vt.shape"
      ]
    },
    {
      "cell_type": "code",
      "execution_count": 3,
      "metadata": {
        "colab": {
          "base_uri": "https://localhost:8080/"
        },
        "id": "SJJZ7sE4EjcE",
        "outputId": "8456e409-391d-4a8b-c0d6-5fdf0ef9e031"
      },
      "outputs": [
        {
          "data": {
            "text/plain": [
              "array([[-0.2, -0.1, -0.3,  0.4,  0.2, -0.2, -0.2, -0.1, -0.3, -0.2, -0.3,\n",
              "        -0.2, -0.1, -0.5, -0.2],\n",
              "       [-0.2, -0. , -0.3, -0.5,  0. , -0.2,  0.1,  0. ,  0.6,  0.1, -0.2,\n",
              "        -0.1, -0.2, -0.3,  0.2],\n",
              "       [-0.1,  0.2,  0.1, -0.2, -0.2,  0.1, -0.4, -0. , -0.1, -0.3,  0.1,\n",
              "        -0.5, -0.5,  0.2, -0.2],\n",
              "       [-0.3,  0.5,  0.1,  0. , -0.4, -0.3, -0.1, -0.3, -0.1,  0.2, -0.4,\n",
              "         0.3,  0.1,  0.1, -0.2],\n",
              "       [-0.2, -0.1, -0.4, -0.3, -0.3, -0.1,  0.2,  0.4, -0.6,  0.1, -0. ,\n",
              "        -0.1,  0.1,  0.2,  0.2],\n",
              "       [-0.2,  0.3, -0.3, -0. ,  0.1,  0.9, -0. , -0. , -0.1,  0.1, -0.2,\n",
              "         0.1,  0. , -0.1, -0. ],\n",
              "       [-0.4, -0. ,  0.3,  0. ,  0. ,  0. ,  0.8, -0.1, -0.1, -0.1,  0. ,\n",
              "        -0.1, -0.1, -0. , -0.2],\n",
              "       [-0.2,  0.2,  0.3,  0.1,  0.3, -0.1, -0.1,  0.8,  0.1,  0. , -0.1,\n",
              "         0.1, -0. , -0. , -0.1],\n",
              "       [-0.3, -0.1, -0.2,  0.5, -0.6,  0.1,  0. ,  0.2,  0.4, -0.1,  0.2,\n",
              "        -0.1,  0.1, -0. , -0. ],\n",
              "       [-0.2, -0.4,  0.1,  0.1, -0. ,  0.1, -0.2, -0. , -0. ,  0.8,  0.1,\n",
              "        -0.2, -0.2, -0. , -0.1],\n",
              "       [-0.3,  0.4, -0.3, -0. ,  0.2, -0.2, -0. , -0.1, -0. ,  0.1,  0.8,\n",
              "         0.1,  0. , -0.1, -0. ],\n",
              "       [-0.3, -0.4,  0.1, -0.2, -0.1,  0.1, -0.2, -0. , -0. , -0.2,  0.1,\n",
              "         0.7, -0.3, -0. , -0.1],\n",
              "       [-0.3, -0.2,  0.2, -0.3,  0.1,  0. , -0.2, -0.1,  0. , -0.2,  0. ,\n",
              "        -0.2,  0.7,  0. , -0.2],\n",
              "       [-0.2, -0.1, -0.3,  0.2,  0.4, -0.1, -0. , -0.1,  0.2, -0. , -0.2,\n",
              "        -0. , -0. ,  0.7, -0. ],\n",
              "       [-0.3,  0.1,  0.2,  0.2,  0.1, -0. , -0.1, -0.1, -0.1, -0.1, -0. ,\n",
              "        -0. , -0. , -0. ,  0.9]])"
            ]
          },
          "execution_count": 3,
          "metadata": {},
          "output_type": "execute_result"
        }
      ],
      "source": [
        "np.round(U,1)"
      ]
    },
    {
      "cell_type": "code",
      "execution_count": 4,
      "metadata": {
        "colab": {
          "base_uri": "https://localhost:8080/"
        },
        "id": "uriCsmOVHWPT",
        "outputId": "ce020d38-7eb1-4d2c-cf83-0be0af192b04"
      },
      "outputs": [
        {
          "data": {
            "text/plain": [
              "array([201.6,  72.6,  63.6,  59.4,  31. ])"
            ]
          },
          "execution_count": 4,
          "metadata": {},
          "output_type": "execute_result"
        }
      ],
      "source": [
        "np.round(S,1)"
      ]
    },
    {
      "cell_type": "code",
      "execution_count": 5,
      "metadata": {
        "colab": {
          "base_uri": "https://localhost:8080/"
        },
        "id": "yPnDPXCHHWYm",
        "outputId": "152eb99a-a062-4572-d9be-7660ed97d489"
      },
      "outputs": [
        {
          "data": {
            "text/plain": [
              "array([[-0.4, -0.3, -0.4, -0.6, -0.5],\n",
              "       [ 0.1,  0.3, -0.4,  0.6, -0.7],\n",
              "       [-0.8,  0.2, -0.3,  0.3,  0.4],\n",
              "       [ 0.4,  0.2, -0.8, -0.2,  0.4],\n",
              "       [ 0.1, -0.8, -0.2,  0.5,  0.2]])"
            ]
          },
          "execution_count": 5,
          "metadata": {},
          "output_type": "execute_result"
        }
      ],
      "source": [
        "np.round(Vt,1)"
      ]
    },
    {
      "cell_type": "code",
      "execution_count": 6,
      "metadata": {
        "colab": {
          "base_uri": "https://localhost:8080/"
        },
        "id": "E7KWDjXUPr-R",
        "outputId": "0f36d93b-35a8-4c64-c0c9-261edfe455bc"
      },
      "outputs": [
        {
          "data": {
            "text/plain": [
              "((15, 5), (5,), (5, 5))"
            ]
          },
          "execution_count": 6,
          "metadata": {},
          "output_type": "execute_result"
        }
      ],
      "source": [
        "U, S, Vt = np.linalg.svd(A, full_matrices=False)\n",
        "U.shape, S.shape, Vt.shape"
      ]
    },
    {
      "cell_type": "code",
      "execution_count": 7,
      "metadata": {
        "colab": {
          "base_uri": "https://localhost:8080/"
        },
        "id": "MvdA-YADPsBe",
        "outputId": "5366ea91-4a10-4a41-b4fb-52cbcece3a28"
      },
      "outputs": [
        {
          "data": {
            "text/plain": [
              "array([[-0.2, -0.1, -0.3,  0.4,  0.2],\n",
              "       [-0.2, -0. , -0.3, -0.5,  0. ],\n",
              "       [-0.1,  0.2,  0.1, -0.2, -0.2],\n",
              "       [-0.3,  0.5,  0.1,  0. , -0.4],\n",
              "       [-0.2, -0.1, -0.4, -0.3, -0.3],\n",
              "       [-0.2,  0.3, -0.3, -0. ,  0.1],\n",
              "       [-0.4, -0. ,  0.3,  0. ,  0. ],\n",
              "       [-0.2,  0.2,  0.3,  0.1,  0.3],\n",
              "       [-0.3, -0.1, -0.2,  0.5, -0.6],\n",
              "       [-0.2, -0.4,  0.1,  0.1, -0. ],\n",
              "       [-0.3,  0.4, -0.3, -0. ,  0.2],\n",
              "       [-0.3, -0.4,  0.1, -0.2, -0.1],\n",
              "       [-0.3, -0.2,  0.2, -0.3,  0.1],\n",
              "       [-0.2, -0.1, -0.3,  0.2,  0.4],\n",
              "       [-0.3,  0.1,  0.2,  0.2,  0.1]])"
            ]
          },
          "execution_count": 7,
          "metadata": {},
          "output_type": "execute_result"
        }
      ],
      "source": [
        "np.round(U,1)"
      ]
    },
    {
      "cell_type": "code",
      "execution_count": 8,
      "metadata": {
        "colab": {
          "base_uri": "https://localhost:8080/"
        },
        "id": "YR65JcJMvT7b",
        "outputId": "06d35595-4e1f-4776-aa57-7153d3894678"
      },
      "outputs": [
        {
          "data": {
            "text/plain": [
              "array([201.6,  72.6,  63.6,  59.4,  31. ])"
            ]
          },
          "execution_count": 8,
          "metadata": {},
          "output_type": "execute_result"
        }
      ],
      "source": [
        "np.round(S,1)"
      ]
    },
    {
      "cell_type": "code",
      "execution_count": 9,
      "metadata": {
        "colab": {
          "base_uri": "https://localhost:8080/"
        },
        "id": "MN7BoN24vUGA",
        "outputId": "088c4097-0ab2-4377-e939-46f04daff69a"
      },
      "outputs": [
        {
          "data": {
            "text/plain": [
              "array([[-0.4, -0.3, -0.4, -0.6, -0.5],\n",
              "       [ 0.1,  0.3, -0.4,  0.6, -0.7],\n",
              "       [-0.8,  0.2, -0.3,  0.3,  0.4],\n",
              "       [ 0.4,  0.2, -0.8, -0.2,  0.4],\n",
              "       [ 0.1, -0.8, -0.2,  0.5,  0.2]])"
            ]
          },
          "execution_count": 9,
          "metadata": {},
          "output_type": "execute_result"
        }
      ],
      "source": [
        "np.round(Vt,1)"
      ]
    },
    {
      "cell_type": "code",
      "execution_count": 11,
      "metadata": {},
      "outputs": [
        {
          "data": {
            "text/plain": [
              "0"
            ]
          },
          "execution_count": 11,
          "metadata": {},
          "output_type": "execute_result"
        }
      ],
      "source": [
        "v_1 = [-1, 1]\n",
        "v_2 = [1, 1]\n",
        "np.dot(v_1, v_2)"
      ]
    },
    {
      "cell_type": "markdown",
      "metadata": {
        "id": "rwbLzO3vPDtC"
      },
      "source": [
        "### (B) TruncatedSVD"
      ]
    },
    {
      "cell_type": "code",
      "execution_count": 1,
      "metadata": {
        "colab": {
          "base_uri": "https://localhost:8080/"
        },
        "id": "1xtF-gs_Ilyl",
        "outputId": "b90aae2e-b1cf-48a6-ac9e-d1e9d3d8fe55"
      },
      "outputs": [
        {
          "data": {
            "text/plain": [
              "array([[33,  2, 11,  9, 40, 21, 12, 23, 26,  1],\n",
              "       [17, 17,  1, 21, 24, 10, 11, 37, 37, 23],\n",
              "       [16, 21, 17,  1, 21, 48, 17,  5, 32,  3],\n",
              "       [12,  7, 33,  6, 22, 48, 47, 12, 49, 17],\n",
              "       [49, 31,  1,  1, 23, 35, 42, 13,  8,  1]])"
            ]
          },
          "execution_count": 1,
          "metadata": {},
          "output_type": "execute_result"
        }
      ],
      "source": [
        "import numpy as np\n",
        "A = np.random.randint(low=1, high=50, size=(5,10))\n",
        "A"
      ]
    },
    {
      "cell_type": "code",
      "execution_count": null,
      "metadata": {},
      "outputs": [],
      "source": []
    },
    {
      "cell_type": "code",
      "execution_count": 2,
      "metadata": {
        "colab": {
          "base_uri": "https://localhost:8080/",
          "height": 72
        },
        "id": "TTQek8qUPBbT",
        "outputId": "380dfaae-77f3-4dc3-a78f-0167537e07e9"
      },
      "outputs": [
        {
          "data": {
            "text/html": [
              "<style>#sk-container-id-1 {color: black;}#sk-container-id-1 pre{padding: 0;}#sk-container-id-1 div.sk-toggleable {background-color: white;}#sk-container-id-1 label.sk-toggleable__label {cursor: pointer;display: block;width: 100%;margin-bottom: 0;padding: 0.3em;box-sizing: border-box;text-align: center;}#sk-container-id-1 label.sk-toggleable__label-arrow:before {content: \"▸\";float: left;margin-right: 0.25em;color: #696969;}#sk-container-id-1 label.sk-toggleable__label-arrow:hover:before {color: black;}#sk-container-id-1 div.sk-estimator:hover label.sk-toggleable__label-arrow:before {color: black;}#sk-container-id-1 div.sk-toggleable__content {max-height: 0;max-width: 0;overflow: hidden;text-align: left;background-color: #f0f8ff;}#sk-container-id-1 div.sk-toggleable__content pre {margin: 0.2em;color: black;border-radius: 0.25em;background-color: #f0f8ff;}#sk-container-id-1 input.sk-toggleable__control:checked~div.sk-toggleable__content {max-height: 200px;max-width: 100%;overflow: auto;}#sk-container-id-1 input.sk-toggleable__control:checked~label.sk-toggleable__label-arrow:before {content: \"▾\";}#sk-container-id-1 div.sk-estimator input.sk-toggleable__control:checked~label.sk-toggleable__label {background-color: #d4ebff;}#sk-container-id-1 div.sk-label input.sk-toggleable__control:checked~label.sk-toggleable__label {background-color: #d4ebff;}#sk-container-id-1 input.sk-hidden--visually {border: 0;clip: rect(1px 1px 1px 1px);clip: rect(1px, 1px, 1px, 1px);height: 1px;margin: -1px;overflow: hidden;padding: 0;position: absolute;width: 1px;}#sk-container-id-1 div.sk-estimator {font-family: monospace;background-color: #f0f8ff;border: 1px dotted black;border-radius: 0.25em;box-sizing: border-box;margin-bottom: 0.5em;}#sk-container-id-1 div.sk-estimator:hover {background-color: #d4ebff;}#sk-container-id-1 div.sk-parallel-item::after {content: \"\";width: 100%;border-bottom: 1px solid gray;flex-grow: 1;}#sk-container-id-1 div.sk-label:hover label.sk-toggleable__label {background-color: #d4ebff;}#sk-container-id-1 div.sk-serial::before {content: \"\";position: absolute;border-left: 1px solid gray;box-sizing: border-box;top: 0;bottom: 0;left: 50%;z-index: 0;}#sk-container-id-1 div.sk-serial {display: flex;flex-direction: column;align-items: center;background-color: white;padding-right: 0.2em;padding-left: 0.2em;position: relative;}#sk-container-id-1 div.sk-item {position: relative;z-index: 1;}#sk-container-id-1 div.sk-parallel {display: flex;align-items: stretch;justify-content: center;background-color: white;position: relative;}#sk-container-id-1 div.sk-item::before, #sk-container-id-1 div.sk-parallel-item::before {content: \"\";position: absolute;border-left: 1px solid gray;box-sizing: border-box;top: 0;bottom: 0;left: 50%;z-index: -1;}#sk-container-id-1 div.sk-parallel-item {display: flex;flex-direction: column;z-index: 1;position: relative;background-color: white;}#sk-container-id-1 div.sk-parallel-item:first-child::after {align-self: flex-end;width: 50%;}#sk-container-id-1 div.sk-parallel-item:last-child::after {align-self: flex-start;width: 50%;}#sk-container-id-1 div.sk-parallel-item:only-child::after {width: 0;}#sk-container-id-1 div.sk-dashed-wrapped {border: 1px dashed gray;margin: 0 0.4em 0.5em 0.4em;box-sizing: border-box;padding-bottom: 0.4em;background-color: white;}#sk-container-id-1 div.sk-label label {font-family: monospace;font-weight: bold;display: inline-block;line-height: 1.2em;}#sk-container-id-1 div.sk-label-container {text-align: center;}#sk-container-id-1 div.sk-container {/* jupyter's `normalize.less` sets `[hidden] { display: none; }` but bootstrap.min.css set `[hidden] { display: none !important; }` so we also need the `!important` here to be able to override the default hidden behavior on the sphinx rendered scikit-learn.org. See: https://github.com/scikit-learn/scikit-learn/issues/21755 */display: inline-block !important;position: relative;}#sk-container-id-1 div.sk-text-repr-fallback {display: none;}</style><div id=\"sk-container-id-1\" class=\"sk-top-container\"><div class=\"sk-text-repr-fallback\"><pre>TruncatedSVD(n_components=3, n_iter=10, random_state=2)</pre><b>In a Jupyter environment, please rerun this cell to show the HTML representation or trust the notebook. <br />On GitHub, the HTML representation is unable to render, please try loading this page with nbviewer.org.</b></div><div class=\"sk-container\" hidden><div class=\"sk-item\"><div class=\"sk-estimator sk-toggleable\"><input class=\"sk-toggleable__control sk-hidden--visually\" id=\"sk-estimator-id-1\" type=\"checkbox\" checked><label for=\"sk-estimator-id-1\" class=\"sk-toggleable__label sk-toggleable__label-arrow\">TruncatedSVD</label><div class=\"sk-toggleable__content\"><pre>TruncatedSVD(n_components=3, n_iter=10, random_state=2)</pre></div></div></div></div></div>"
            ],
            "text/plain": [
              "TruncatedSVD(n_components=3, n_iter=10, random_state=2)"
            ]
          },
          "execution_count": 2,
          "metadata": {},
          "output_type": "execute_result"
        }
      ],
      "source": [
        "from sklearn.decomposition import TruncatedSVD\n",
        "\n",
        "# Create SVD object\n",
        "svd = TruncatedSVD(n_components=3, n_iter=10, random_state=2)\n",
        "svd.fit(A)\n"
      ]
    },
    {
      "cell_type": "code",
      "execution_count": 3,
      "metadata": {
        "colab": {
          "base_uri": "https://localhost:8080/"
        },
        "id": "39zHHmH4LZtD",
        "outputId": "725717e1-f1fe-4640-d72c-42e4c62679c1"
      },
      "outputs": [
        {
          "data": {
            "text/plain": [
              "array([[ 0.35,  0.22,  0.2 ,  0.1 ,  0.36,  0.48,  0.39,  0.24,  0.44,\n",
              "         0.13],\n",
              "       [ 0.65,  0.3 , -0.4 , -0.02,  0.16, -0.16,  0.03,  0.13, -0.48,\n",
              "        -0.2 ],\n",
              "       [-0.02, -0.1 , -0.16,  0.34,  0.26, -0.44, -0.37,  0.55,  0.29,\n",
              "         0.26]])"
            ]
          },
          "execution_count": 3,
          "metadata": {},
          "output_type": "execute_result"
        }
      ],
      "source": [
        "np.round(svd.components_,2)"
      ]
    },
    {
      "cell_type": "code",
      "execution_count": 4,
      "metadata": {
        "colab": {
          "base_uri": "https://localhost:8080/"
        },
        "id": "7IpwsM2oPBeb",
        "outputId": "81bcfe65-d9da-4b58-cae2-77c49654a37a"
      },
      "outputs": [
        {
          "data": {
            "text/plain": [
              "array([157.1,  50.9,  50.8])"
            ]
          },
          "execution_count": 4,
          "metadata": {},
          "output_type": "execute_result"
        }
      ],
      "source": [
        "# Get Singular values and Components\n",
        "Sigma = svd.singular_values_\n",
        "np.round(Sigma,1)"
      ]
    },
    {
      "cell_type": "code",
      "execution_count": 6,
      "metadata": {
        "colab": {
          "base_uri": "https://localhost:8080/"
        },
        "id": "qCUFyqfSwI1R",
        "outputId": "0ef5d40d-1e26-44aa-f4f8-ecfa67d1149b"
      },
      "outputs": [
        {
          "data": {
            "text/plain": [
              "array([0.09, 0.37, 0.36])"
            ]
          },
          "execution_count": 6,
          "metadata": {},
          "output_type": "execute_result"
        }
      ],
      "source": [
        "np.round(svd.explained_variance_ratio_,2)"
      ]
    },
    {
      "cell_type": "code",
      "execution_count": 7,
      "metadata": {
        "colab": {
          "base_uri": "https://localhost:8080/"
        },
        "id": "FdvHCJTnzaEr",
        "outputId": "7da56768-a508-435d-9e47-e892a677b669"
      },
      "outputs": [
        {
          "data": {
            "text/plain": [
              "0.8204015857960876"
            ]
          },
          "execution_count": 7,
          "metadata": {},
          "output_type": "execute_result"
        }
      ],
      "source": [
        "svd.explained_variance_ratio_.sum()"
      ]
    },
    {
      "cell_type": "code",
      "execution_count": 8,
      "metadata": {
        "id": "TN3FOjW_1HJA"
      },
      "outputs": [],
      "source": [
        "from sklearn.utils.extmath import randomized_svd\n",
        "U, Sigma, VT = randomized_svd(A,\n",
        "                              n_components=3,\n",
        "                              random_state=2)"
      ]
    },
    {
      "cell_type": "code",
      "execution_count": 9,
      "metadata": {
        "colab": {
          "base_uri": "https://localhost:8080/"
        },
        "id": "f9yphuV5rJuI",
        "outputId": "02336ddc-5806-4f0f-aae4-d07c9dde7c12"
      },
      "outputs": [
        {
          "data": {
            "text/plain": [
              "((5, 10), (5, 3), (3,), (3, 10))"
            ]
          },
          "execution_count": 9,
          "metadata": {},
          "output_type": "execute_result"
        }
      ],
      "source": [
        "A.shape, U.shape, Sigma.shape, VT.shape"
      ]
    },
    {
      "cell_type": "code",
      "execution_count": 10,
      "metadata": {
        "colab": {
          "base_uri": "https://localhost:8080/"
        },
        "id": "9ygralwFIvke",
        "outputId": "93415d55-9ab4-4f3d-ef6a-89edf4645c25"
      },
      "outputs": [
        {
          "data": {
            "text/plain": [
              "array([[ 0.4,  0.2,  0.3],\n",
              "       [ 0.4,  0. ,  0.8],\n",
              "       [ 0.4, -0.2, -0.3],\n",
              "       [ 0.6, -0.6, -0.2],\n",
              "       [ 0.5,  0.7, -0.4]])"
            ]
          },
          "execution_count": 10,
          "metadata": {},
          "output_type": "execute_result"
        }
      ],
      "source": [
        "np.round(U,1)"
      ]
    },
    {
      "cell_type": "code",
      "execution_count": 11,
      "metadata": {
        "colab": {
          "base_uri": "https://localhost:8080/"
        },
        "id": "-Q7s-zU7Ivuy",
        "outputId": "cadd76ff-6d98-46b6-f3c3-444cf53d66a6"
      },
      "outputs": [
        {
          "data": {
            "text/plain": [
              "array([157.1,  50.9,  50.8])"
            ]
          },
          "execution_count": 11,
          "metadata": {},
          "output_type": "execute_result"
        }
      ],
      "source": [
        "np.round(Sigma,1)"
      ]
    },
    {
      "cell_type": "code",
      "execution_count": 12,
      "metadata": {
        "colab": {
          "base_uri": "https://localhost:8080/"
        },
        "id": "DPCxyhQc1HLk",
        "outputId": "cc17d30f-4298-4692-9f6b-988ea70593ea"
      },
      "outputs": [
        {
          "data": {
            "text/plain": [
              "array([[ 0.4,  0.2,  0.2,  0.1,  0.4,  0.5,  0.4,  0.2,  0.4,  0.1],\n",
              "       [ 0.6,  0.3, -0.4, -0. ,  0.2, -0.2,  0. ,  0.1, -0.5, -0.2],\n",
              "       [-0. , -0.1, -0.2,  0.3,  0.3, -0.4, -0.4,  0.5,  0.3,  0.3]])"
            ]
          },
          "execution_count": 12,
          "metadata": {},
          "output_type": "execute_result"
        }
      ],
      "source": [
        "np.round(VT,1)"
      ]
    },
    {
      "cell_type": "markdown",
      "metadata": {
        "id": "EcPMnGjICfTG"
      },
      "source": [
        "### (C) Pre-processing"
      ]
    },
    {
      "cell_type": "code",
      "execution_count": 14,
      "metadata": {
        "colab": {
          "base_uri": "https://localhost:8080/"
        },
        "id": "fvoa4QAjdNpx",
        "outputId": "c0dc941d-8c33-4e69-de59-208014e5df20"
      },
      "outputs": [],
      "source": [
        "import pandas as pd\n",
        "import numpy as np\n",
        "pd.set_option('display.max_colwidth', None)\n",
        "path = '../Dataset'\n",
        "train = pd.read_csv(path + \"/ag_news_train.csv\")"
      ]
    },
    {
      "cell_type": "code",
      "execution_count": 16,
      "metadata": {},
      "outputs": [
        {
          "data": {
            "text/html": [
              "<div>\n",
              "<style scoped>\n",
              "    .dataframe tbody tr th:only-of-type {\n",
              "        vertical-align: middle;\n",
              "    }\n",
              "\n",
              "    .dataframe tbody tr th {\n",
              "        vertical-align: top;\n",
              "    }\n",
              "\n",
              "    .dataframe thead th {\n",
              "        text-align: right;\n",
              "    }\n",
              "</style>\n",
              "<table border=\"1\" class=\"dataframe\">\n",
              "  <thead>\n",
              "    <tr style=\"text-align: right;\">\n",
              "      <th></th>\n",
              "      <th>Class Index</th>\n",
              "      <th>Title</th>\n",
              "      <th>Description</th>\n",
              "    </tr>\n",
              "  </thead>\n",
              "  <tbody>\n",
              "    <tr>\n",
              "      <th>0</th>\n",
              "      <td>3</td>\n",
              "      <td>Wall St. Bears Claw Back Into the Black (Reuters)</td>\n",
              "      <td>Reuters - Short-sellers, Wall Street's dwindling\\band of ultra-cynics, are seeing green again.</td>\n",
              "    </tr>\n",
              "    <tr>\n",
              "      <th>1</th>\n",
              "      <td>3</td>\n",
              "      <td>Carlyle Looks Toward Commercial Aerospace (Reuters)</td>\n",
              "      <td>Reuters - Private investment firm Carlyle Group,\\which has a reputation for making well-timed and occasionally\\controversial plays in the defense industry, has quietly placed\\its bets on another part of the market.</td>\n",
              "    </tr>\n",
              "    <tr>\n",
              "      <th>2</th>\n",
              "      <td>3</td>\n",
              "      <td>Oil and Economy Cloud Stocks' Outlook (Reuters)</td>\n",
              "      <td>Reuters - Soaring crude prices plus worries\\about the economy and the outlook for earnings are expected to\\hang over the stock market next week during the depth of the\\summer doldrums.</td>\n",
              "    </tr>\n",
              "    <tr>\n",
              "      <th>3</th>\n",
              "      <td>3</td>\n",
              "      <td>Iraq Halts Oil Exports from Main Southern Pipeline (Reuters)</td>\n",
              "      <td>Reuters - Authorities have halted oil export\\flows from the main pipeline in southern Iraq after\\intelligence showed a rebel militia could strike\\infrastructure, an oil official said on Saturday.</td>\n",
              "    </tr>\n",
              "    <tr>\n",
              "      <th>4</th>\n",
              "      <td>3</td>\n",
              "      <td>Oil prices soar to all-time record, posing new menace to US economy (AFP)</td>\n",
              "      <td>AFP - Tearaway world oil prices, toppling records and straining wallets, present a new economic menace barely three months before the US presidential elections.</td>\n",
              "    </tr>\n",
              "  </tbody>\n",
              "</table>\n",
              "</div>"
            ],
            "text/plain": [
              "   Class Index  \\\n",
              "0            3   \n",
              "1            3   \n",
              "2            3   \n",
              "3            3   \n",
              "4            3   \n",
              "\n",
              "                                                                       Title  \\\n",
              "0                          Wall St. Bears Claw Back Into the Black (Reuters)   \n",
              "1                        Carlyle Looks Toward Commercial Aerospace (Reuters)   \n",
              "2                            Oil and Economy Cloud Stocks' Outlook (Reuters)   \n",
              "3               Iraq Halts Oil Exports from Main Southern Pipeline (Reuters)   \n",
              "4  Oil prices soar to all-time record, posing new menace to US economy (AFP)   \n",
              "\n",
              "                                                                                                                                                                                                              Description  \n",
              "0                                                                                                                          Reuters - Short-sellers, Wall Street's dwindling\\band of ultra-cynics, are seeing green again.  \n",
              "1  Reuters - Private investment firm Carlyle Group,\\which has a reputation for making well-timed and occasionally\\controversial plays in the defense industry, has quietly placed\\its bets on another part of the market.  \n",
              "2                                Reuters - Soaring crude prices plus worries\\about the economy and the outlook for earnings are expected to\\hang over the stock market next week during the depth of the\\summer doldrums.  \n",
              "3                     Reuters - Authorities have halted oil export\\flows from the main pipeline in southern Iraq after\\intelligence showed a rebel militia could strike\\infrastructure, an oil official said on Saturday.  \n",
              "4                                                        AFP - Tearaway world oil prices, toppling records and straining wallets, present a new economic menace barely three months before the US presidential elections.  "
            ]
          },
          "execution_count": 16,
          "metadata": {},
          "output_type": "execute_result"
        }
      ],
      "source": [
        "train.head()"
      ]
    },
    {
      "cell_type": "code",
      "execution_count": 21,
      "metadata": {},
      "outputs": [
        {
          "data": {
            "text/plain": [
              "0                                                                                                                            Reuters - Short-sellers, Wall Street's dwindling\\band of ultra-cynics, are seeing green again.\n",
              "1    Reuters - Private investment firm Carlyle Group,\\which has a reputation for making well-timed and occasionally\\controversial plays in the defense industry, has quietly placed\\its bets on another part of the market.\n",
              "2                                  Reuters - Soaring crude prices plus worries\\about the economy and the outlook for earnings are expected to\\hang over the stock market next week during the depth of the\\summer doldrums.\n",
              "3                       Reuters - Authorities have halted oil export\\flows from the main pipeline in southern Iraq after\\intelligence showed a rebel militia could strike\\infrastructure, an oil official said on Saturday.\n",
              "4                                                          AFP - Tearaway world oil prices, toppling records and straining wallets, present a new economic menace barely three months before the US presidential elections.\n",
              "Name: Description, dtype: object"
            ]
          },
          "execution_count": 21,
          "metadata": {},
          "output_type": "execute_result"
        }
      ],
      "source": [
        "docs = train['Description'][0:5]\n",
        "docs"
      ]
    },
    {
      "cell_type": "code",
      "execution_count": null,
      "metadata": {},
      "outputs": [],
      "source": []
    },
    {
      "cell_type": "code",
      "execution_count": 15,
      "metadata": {
        "colab": {
          "base_uri": "https://localhost:8080/",
          "height": 109
        },
        "id": "9MMCZUmaES4z",
        "outputId": "33f1ae0e-41c3-445a-ba2a-055c3280221f"
      },
      "outputs": [
        {
          "data": {
            "text/html": [
              "<div>\n",
              "<style scoped>\n",
              "    .dataframe tbody tr th:only-of-type {\n",
              "        vertical-align: middle;\n",
              "    }\n",
              "\n",
              "    .dataframe tbody tr th {\n",
              "        vertical-align: top;\n",
              "    }\n",
              "\n",
              "    .dataframe thead th {\n",
              "        text-align: right;\n",
              "    }\n",
              "</style>\n",
              "<table border=\"1\" class=\"dataframe\">\n",
              "  <thead>\n",
              "    <tr style=\"text-align: right;\">\n",
              "      <th></th>\n",
              "      <th>Class Index</th>\n",
              "      <th>Title</th>\n",
              "      <th>Description</th>\n",
              "    </tr>\n",
              "  </thead>\n",
              "  <tbody>\n",
              "    <tr>\n",
              "      <th>492</th>\n",
              "      <td>1</td>\n",
              "      <td>Venezuelans Vote Early in Referendum on Chavez Rule (Reuters)</td>\n",
              "      <td>Reuters - Venezuelans turned out early\\and in large numbers on Sunday to vote in a historic referendum\\that will either remove left-wing President Hugo Chavez from\\office or give him a new mandate to govern for the next two\\years.</td>\n",
              "    </tr>\n",
              "    <tr>\n",
              "      <th>493</th>\n",
              "      <td>1</td>\n",
              "      <td>S.Koreans Clash with Police on Iraq Troop Dispatch (Reuters)</td>\n",
              "      <td>Reuters - South Korean police used water cannon in\\central Seoul Sunday to disperse at least 7,000 protesters\\urging the government to reverse a controversial decision to\\send more troops to Iraq.</td>\n",
              "    </tr>\n",
              "  </tbody>\n",
              "</table>\n",
              "</div>"
            ],
            "text/plain": [
              "     Class Index  \\\n",
              "492            1   \n",
              "493            1   \n",
              "\n",
              "                                                             Title  \\\n",
              "492  Venezuelans Vote Early in Referendum on Chavez Rule (Reuters)   \n",
              "493   S.Koreans Clash with Police on Iraq Troop Dispatch (Reuters)   \n",
              "\n",
              "                                                                                                                                                                                                                                Description  \n",
              "492  Reuters - Venezuelans turned out early\\and in large numbers on Sunday to vote in a historic referendum\\that will either remove left-wing President Hugo Chavez from\\office or give him a new mandate to govern for the next two\\years.  \n",
              "493                                    Reuters - South Korean police used water cannon in\\central Seoul Sunday to disperse at least 7,000 protesters\\urging the government to reverse a controversial decision to\\send more troops to Iraq.  "
            ]
          },
          "execution_count": 15,
          "metadata": {},
          "output_type": "execute_result"
        }
      ],
      "source": [
        "# Class Index = 1 is World\n",
        "train[train['Class Index']==1][0:2]"
      ]
    },
    {
      "cell_type": "code",
      "execution_count": 17,
      "metadata": {
        "colab": {
          "base_uri": "https://localhost:8080/",
          "height": 158
        },
        "id": "HbY_Q2crEefc",
        "outputId": "e3e0b0aa-3f56-41f3-8fab-e09796d58b66"
      },
      "outputs": [
        {
          "data": {
            "text/html": [
              "<div>\n",
              "<style scoped>\n",
              "    .dataframe tbody tr th:only-of-type {\n",
              "        vertical-align: middle;\n",
              "    }\n",
              "\n",
              "    .dataframe tbody tr th {\n",
              "        vertical-align: top;\n",
              "    }\n",
              "\n",
              "    .dataframe thead th {\n",
              "        text-align: right;\n",
              "    }\n",
              "</style>\n",
              "<table border=\"1\" class=\"dataframe\">\n",
              "  <thead>\n",
              "    <tr style=\"text-align: right;\">\n",
              "      <th></th>\n",
              "      <th>Class Index</th>\n",
              "      <th>Title</th>\n",
              "      <th>Description</th>\n",
              "    </tr>\n",
              "  </thead>\n",
              "  <tbody>\n",
              "    <tr>\n",
              "      <th>448</th>\n",
              "      <td>2</td>\n",
              "      <td>Phelps, Thorpe Advance in 200 Freestyle (AP)</td>\n",
              "      <td>AP - Michael Phelps took care of qualifying for the Olympic 200-meter freestyle semifinals Sunday, and then found out he had been added to the American team for the evening's 400 freestyle relay final. Phelps' rivals Ian Thorpe and Pieter van den Hoogenband and teammate Klete Keller were faster than the teenager in the 200 free preliminaries.</td>\n",
              "    </tr>\n",
              "    <tr>\n",
              "      <th>449</th>\n",
              "      <td>2</td>\n",
              "      <td>Reds Knock Padres Out of Wild-Card Lead (AP)</td>\n",
              "      <td>AP - Wily Mo Pena homered twice and drove in four runs, helping the Cincinnati Reds beat the San Diego Padres 11-5 on Saturday night. San Diego was knocked out of a share of the NL wild-card lead with the loss and Chicago's victory over Los Angeles earlier in the day.</td>\n",
              "    </tr>\n",
              "  </tbody>\n",
              "</table>\n",
              "</div>"
            ],
            "text/plain": [
              "     Class Index                                         Title  \\\n",
              "448            2  Phelps, Thorpe Advance in 200 Freestyle (AP)   \n",
              "449            2  Reds Knock Padres Out of Wild-Card Lead (AP)   \n",
              "\n",
              "                                                                                                                                                                                                                                                                                                                                                  Description  \n",
              "448  AP - Michael Phelps took care of qualifying for the Olympic 200-meter freestyle semifinals Sunday, and then found out he had been added to the American team for the evening's 400 freestyle relay final. Phelps' rivals Ian Thorpe and Pieter van den Hoogenband and teammate Klete Keller were faster than the teenager in the 200 free preliminaries.  \n",
              "449                                                                              AP - Wily Mo Pena homered twice and drove in four runs, helping the Cincinnati Reds beat the San Diego Padres 11-5 on Saturday night. San Diego was knocked out of a share of the NL wild-card lead with the loss and Chicago's victory over Los Angeles earlier in the day.  "
            ]
          },
          "execution_count": 17,
          "metadata": {},
          "output_type": "execute_result"
        }
      ],
      "source": [
        "# Class Index = 2 is Sports\n",
        "train[train['Class Index']==2][0:2]"
      ]
    },
    {
      "cell_type": "code",
      "execution_count": 18,
      "metadata": {
        "colab": {
          "base_uri": "https://localhost:8080/",
          "height": 109
        },
        "id": "WTW0ob9sEeit",
        "outputId": "34915288-b388-47a5-9eb4-160f7367821e"
      },
      "outputs": [
        {
          "data": {
            "text/html": [
              "<div>\n",
              "<style scoped>\n",
              "    .dataframe tbody tr th:only-of-type {\n",
              "        vertical-align: middle;\n",
              "    }\n",
              "\n",
              "    .dataframe tbody tr th {\n",
              "        vertical-align: top;\n",
              "    }\n",
              "\n",
              "    .dataframe thead th {\n",
              "        text-align: right;\n",
              "    }\n",
              "</style>\n",
              "<table border=\"1\" class=\"dataframe\">\n",
              "  <thead>\n",
              "    <tr style=\"text-align: right;\">\n",
              "      <th></th>\n",
              "      <th>Class Index</th>\n",
              "      <th>Title</th>\n",
              "      <th>Description</th>\n",
              "    </tr>\n",
              "  </thead>\n",
              "  <tbody>\n",
              "    <tr>\n",
              "      <th>0</th>\n",
              "      <td>3</td>\n",
              "      <td>Wall St. Bears Claw Back Into the Black (Reuters)</td>\n",
              "      <td>Reuters - Short-sellers, Wall Street's dwindling\\band of ultra-cynics, are seeing green again.</td>\n",
              "    </tr>\n",
              "    <tr>\n",
              "      <th>1</th>\n",
              "      <td>3</td>\n",
              "      <td>Carlyle Looks Toward Commercial Aerospace (Reuters)</td>\n",
              "      <td>Reuters - Private investment firm Carlyle Group,\\which has a reputation for making well-timed and occasionally\\controversial plays in the defense industry, has quietly placed\\its bets on another part of the market.</td>\n",
              "    </tr>\n",
              "  </tbody>\n",
              "</table>\n",
              "</div>"
            ],
            "text/plain": [
              "   Class Index                                                Title  \\\n",
              "0            3    Wall St. Bears Claw Back Into the Black (Reuters)   \n",
              "1            3  Carlyle Looks Toward Commercial Aerospace (Reuters)   \n",
              "\n",
              "                                                                                                                                                                                                              Description  \n",
              "0                                                                                                                          Reuters - Short-sellers, Wall Street's dwindling\\band of ultra-cynics, are seeing green again.  \n",
              "1  Reuters - Private investment firm Carlyle Group,\\which has a reputation for making well-timed and occasionally\\controversial plays in the defense industry, has quietly placed\\its bets on another part of the market.  "
            ]
          },
          "execution_count": 18,
          "metadata": {},
          "output_type": "execute_result"
        }
      ],
      "source": [
        "# Class Index = 3 is Business\n",
        "train[train['Class Index']==3][0:2]"
      ]
    },
    {
      "cell_type": "code",
      "execution_count": 19,
      "metadata": {
        "colab": {
          "base_uri": "https://localhost:8080/",
          "height": 158
        },
        "id": "G0WUxmPLEvFN",
        "outputId": "8571efe1-a2c0-47c8-f772-bd7111be45c8"
      },
      "outputs": [
        {
          "data": {
            "text/html": [
              "<div>\n",
              "<style scoped>\n",
              "    .dataframe tbody tr th:only-of-type {\n",
              "        vertical-align: middle;\n",
              "    }\n",
              "\n",
              "    .dataframe tbody tr th {\n",
              "        vertical-align: top;\n",
              "    }\n",
              "\n",
              "    .dataframe thead th {\n",
              "        text-align: right;\n",
              "    }\n",
              "</style>\n",
              "<table border=\"1\" class=\"dataframe\">\n",
              "  <thead>\n",
              "    <tr style=\"text-align: right;\">\n",
              "      <th></th>\n",
              "      <th>Class Index</th>\n",
              "      <th>Title</th>\n",
              "      <th>Description</th>\n",
              "    </tr>\n",
              "  </thead>\n",
              "  <tbody>\n",
              "    <tr>\n",
              "      <th>78</th>\n",
              "      <td>4</td>\n",
              "      <td>'Madden,' 'ESPN' Football Score in Different Ways (Reuters)</td>\n",
              "      <td>Reuters - Was absenteeism a little high\\on Tuesday among the guys at the office? EA Sports would like\\to think it was because \"Madden NFL 2005\" came out that day,\\and some fans of the football simulation are rabid enough to\\take a sick day to play it.</td>\n",
              "    </tr>\n",
              "    <tr>\n",
              "      <th>79</th>\n",
              "      <td>4</td>\n",
              "      <td>Group to Propose New High-Speed Wireless Format (Reuters)</td>\n",
              "      <td>Reuters - A group of technology companies\\including Texas Instruments Inc. (TXN.N), STMicroelectronics\\(STM.PA) and Broadcom Corp. (BRCM.O), on Thursday said they\\will propose a new wireless networking standard up to 10 times\\the speed of the current generation.</td>\n",
              "    </tr>\n",
              "  </tbody>\n",
              "</table>\n",
              "</div>"
            ],
            "text/plain": [
              "    Class Index                                                        Title  \\\n",
              "78            4  'Madden,' 'ESPN' Football Score in Different Ways (Reuters)   \n",
              "79            4    Group to Propose New High-Speed Wireless Format (Reuters)   \n",
              "\n",
              "                                                                                                                                                                                                                                                               Description  \n",
              "78             Reuters - Was absenteeism a little high\\on Tuesday among the guys at the office? EA Sports would like\\to think it was because \"Madden NFL 2005\" came out that day,\\and some fans of the football simulation are rabid enough to\\take a sick day to play it.  \n",
              "79  Reuters - A group of technology companies\\including Texas Instruments Inc. (TXN.N), STMicroelectronics\\(STM.PA) and Broadcom Corp. (BRCM.O), on Thursday said they\\will propose a new wireless networking standard up to 10 times\\the speed of the current generation.  "
            ]
          },
          "execution_count": 19,
          "metadata": {},
          "output_type": "execute_result"
        }
      ],
      "source": [
        "# Class Index = 4 is Sci/Tech.\n",
        "train[train['Class Index']==4][0:2]"
      ]
    },
    {
      "cell_type": "markdown",
      "metadata": {
        "id": "j9Y_fbqB7N7m"
      },
      "source": [
        "### Pre-processing"
      ]
    },
    {
      "cell_type": "code",
      "execution_count": 22,
      "metadata": {
        "id": "M6I0vuhz6_mE"
      },
      "outputs": [],
      "source": [
        "import os\n",
        "import pandas as pd\n",
        "from nltk.tokenize import RegexpTokenizer\n",
        "from sklearn.feature_extraction.text import TfidfVectorizer\n",
        "from sklearn.decomposition import TruncatedSVD"
      ]
    },
    {
      "cell_type": "code",
      "execution_count": 23,
      "metadata": {
        "colab": {
          "base_uri": "https://localhost:8080/"
        },
        "id": "LGvfmBOX6BXq",
        "outputId": "00b1d690-5549-474c-9ee2-aafe7fedba4e"
      },
      "outputs": [
        {
          "data": {
            "text/plain": [
              "0                                                                                                                            Reuters - Short-sellers, Wall Street's dwindling\\band of ultra-cynics, are seeing green again.\n",
              "1    Reuters - Private investment firm Carlyle Group,\\which has a reputation for making well-timed and occasionally\\controversial plays in the defense industry, has quietly placed\\its bets on another part of the market.\n",
              "2                                  Reuters - Soaring crude prices plus worries\\about the economy and the outlook for earnings are expected to\\hang over the stock market next week during the depth of the\\summer doldrums.\n",
              "3                       Reuters - Authorities have halted oil export\\flows from the main pipeline in southern Iraq after\\intelligence showed a rebel militia could strike\\infrastructure, an oil official said on Saturday.\n",
              "4                                                          AFP - Tearaway world oil prices, toppling records and straining wallets, present a new economic menace barely three months before the US presidential elections.\n",
              "Name: Description, dtype: object"
            ]
          },
          "execution_count": 23,
          "metadata": {},
          "output_type": "execute_result"
        }
      ],
      "source": [
        "B = train['Description'][0:5]\n",
        "B"
      ]
    },
    {
      "cell_type": "code",
      "execution_count": 24,
      "metadata": {
        "colab": {
          "base_uri": "https://localhost:8080/"
        },
        "id": "AkXkegKO6_o9",
        "outputId": "c57e5834-96e9-489d-9b28-8e5274071538"
      },
      "outputs": [
        {
          "name": "stderr",
          "output_type": "stream",
          "text": [
            "/home/codespace/.local/lib/python3.10/site-packages/sklearn/feature_extraction/text.py:525: UserWarning: The parameter 'token_pattern' will not be used since 'tokenizer' is not None'\n",
            "  warnings.warn(\n"
          ]
        }
      ],
      "source": [
        "# Initialize regex tokenizer\n",
        "tokenizer = RegexpTokenizer(r'\\w+')\n",
        "\n",
        "# Vectorize document using TF-IDF\n",
        "from sklearn.feature_extraction.text import TfidfVectorizer\n",
        "tfidf = TfidfVectorizer(lowercase=True,\n",
        "                       stop_words='english',\n",
        "                       ngram_range = (1,1),\n",
        "                       tokenizer = tokenizer.tokenize)\n",
        "\n",
        "\n",
        "# Fit and Transform the documents\n",
        "train_data = tfidf.fit_transform(B)"
      ]
    },
    {
      "cell_type": "code",
      "execution_count": 25,
      "metadata": {
        "colab": {
          "base_uri": "https://localhost:8080/"
        },
        "id": "qsSoaorb4fGF",
        "outputId": "d3869683-7661-4773-c79f-50a1e371387b"
      },
      "outputs": [
        {
          "data": {
            "text/plain": [
              "77"
            ]
          },
          "execution_count": 25,
          "metadata": {},
          "output_type": "execute_result"
        }
      ],
      "source": [
        "len(tfidf.get_feature_names_out())"
      ]
    },
    {
      "cell_type": "code",
      "execution_count": 26,
      "metadata": {
        "colab": {
          "base_uri": "https://localhost:8080/"
        },
        "id": "XtLA9fYi4tPN",
        "outputId": "7c6dc094-d4b0-4287-cd87-b4b74dc689d2"
      },
      "outputs": [
        {
          "data": {
            "text/plain": [
              "array(['afp', 'authorities', 'band', 'barely', 'bets', 'carlyle',\n",
              "       'controversial', 'crude', 'cynics', 'defense', 'depth', 'doldrums',\n",
              "       'dwindling', 'earnings', 'economic', 'economy', 'elections',\n",
              "       'expected', 'export', 'firm', 'flows', 'green', 'group', 'halted',\n",
              "       'hang', 'industry', 'infrastructure', 'intelligence', 'investment',\n",
              "       'iraq', 'main', 'making', 'market', 'menace', 'militia', 'months',\n",
              "       'new', 'occasionally', 'official', 'oil', 'outlook', 'pipeline',\n",
              "       'placed', 'plays', 'plus', 'present', 'presidential', 'prices',\n",
              "       'private', 'quietly', 'rebel', 'records', 'reputation', 'reuters',\n",
              "       's', 'said', 'saturday', 'seeing', 'sellers', 'short', 'showed',\n",
              "       'soaring', 'southern', 'stock', 'straining', 'street', 'strike',\n",
              "       'summer', 'tearaway', 'timed', 'toppling', 'ultra', 'wall',\n",
              "       'wallets', 'week', 'world', 'worries'], dtype=object)"
            ]
          },
          "execution_count": 26,
          "metadata": {},
          "output_type": "execute_result"
        }
      ],
      "source": [
        "terms = tfidf.get_feature_names_out()\n",
        "terms"
      ]
    },
    {
      "cell_type": "code",
      "execution_count": 27,
      "metadata": {
        "colab": {
          "base_uri": "https://localhost:8080/",
          "height": 72
        },
        "id": "g6IRr0GL6_r3",
        "outputId": "ecdc2736-b3af-4a64-9ded-73171d45355b"
      },
      "outputs": [
        {
          "data": {
            "text/html": [
              "<style>#sk-container-id-2 {color: black;}#sk-container-id-2 pre{padding: 0;}#sk-container-id-2 div.sk-toggleable {background-color: white;}#sk-container-id-2 label.sk-toggleable__label {cursor: pointer;display: block;width: 100%;margin-bottom: 0;padding: 0.3em;box-sizing: border-box;text-align: center;}#sk-container-id-2 label.sk-toggleable__label-arrow:before {content: \"▸\";float: left;margin-right: 0.25em;color: #696969;}#sk-container-id-2 label.sk-toggleable__label-arrow:hover:before {color: black;}#sk-container-id-2 div.sk-estimator:hover label.sk-toggleable__label-arrow:before {color: black;}#sk-container-id-2 div.sk-toggleable__content {max-height: 0;max-width: 0;overflow: hidden;text-align: left;background-color: #f0f8ff;}#sk-container-id-2 div.sk-toggleable__content pre {margin: 0.2em;color: black;border-radius: 0.25em;background-color: #f0f8ff;}#sk-container-id-2 input.sk-toggleable__control:checked~div.sk-toggleable__content {max-height: 200px;max-width: 100%;overflow: auto;}#sk-container-id-2 input.sk-toggleable__control:checked~label.sk-toggleable__label-arrow:before {content: \"▾\";}#sk-container-id-2 div.sk-estimator input.sk-toggleable__control:checked~label.sk-toggleable__label {background-color: #d4ebff;}#sk-container-id-2 div.sk-label input.sk-toggleable__control:checked~label.sk-toggleable__label {background-color: #d4ebff;}#sk-container-id-2 input.sk-hidden--visually {border: 0;clip: rect(1px 1px 1px 1px);clip: rect(1px, 1px, 1px, 1px);height: 1px;margin: -1px;overflow: hidden;padding: 0;position: absolute;width: 1px;}#sk-container-id-2 div.sk-estimator {font-family: monospace;background-color: #f0f8ff;border: 1px dotted black;border-radius: 0.25em;box-sizing: border-box;margin-bottom: 0.5em;}#sk-container-id-2 div.sk-estimator:hover {background-color: #d4ebff;}#sk-container-id-2 div.sk-parallel-item::after {content: \"\";width: 100%;border-bottom: 1px solid gray;flex-grow: 1;}#sk-container-id-2 div.sk-label:hover label.sk-toggleable__label {background-color: #d4ebff;}#sk-container-id-2 div.sk-serial::before {content: \"\";position: absolute;border-left: 1px solid gray;box-sizing: border-box;top: 0;bottom: 0;left: 50%;z-index: 0;}#sk-container-id-2 div.sk-serial {display: flex;flex-direction: column;align-items: center;background-color: white;padding-right: 0.2em;padding-left: 0.2em;position: relative;}#sk-container-id-2 div.sk-item {position: relative;z-index: 1;}#sk-container-id-2 div.sk-parallel {display: flex;align-items: stretch;justify-content: center;background-color: white;position: relative;}#sk-container-id-2 div.sk-item::before, #sk-container-id-2 div.sk-parallel-item::before {content: \"\";position: absolute;border-left: 1px solid gray;box-sizing: border-box;top: 0;bottom: 0;left: 50%;z-index: -1;}#sk-container-id-2 div.sk-parallel-item {display: flex;flex-direction: column;z-index: 1;position: relative;background-color: white;}#sk-container-id-2 div.sk-parallel-item:first-child::after {align-self: flex-end;width: 50%;}#sk-container-id-2 div.sk-parallel-item:last-child::after {align-self: flex-start;width: 50%;}#sk-container-id-2 div.sk-parallel-item:only-child::after {width: 0;}#sk-container-id-2 div.sk-dashed-wrapped {border: 1px dashed gray;margin: 0 0.4em 0.5em 0.4em;box-sizing: border-box;padding-bottom: 0.4em;background-color: white;}#sk-container-id-2 div.sk-label label {font-family: monospace;font-weight: bold;display: inline-block;line-height: 1.2em;}#sk-container-id-2 div.sk-label-container {text-align: center;}#sk-container-id-2 div.sk-container {/* jupyter's `normalize.less` sets `[hidden] { display: none; }` but bootstrap.min.css set `[hidden] { display: none !important; }` so we also need the `!important` here to be able to override the default hidden behavior on the sphinx rendered scikit-learn.org. See: https://github.com/scikit-learn/scikit-learn/issues/21755 */display: inline-block !important;position: relative;}#sk-container-id-2 div.sk-text-repr-fallback {display: none;}</style><div id=\"sk-container-id-2\" class=\"sk-top-container\"><div class=\"sk-text-repr-fallback\"><pre>TruncatedSVD(n_components=3, n_iter=100, random_state=42)</pre><b>In a Jupyter environment, please rerun this cell to show the HTML representation or trust the notebook. <br />On GitHub, the HTML representation is unable to render, please try loading this page with nbviewer.org.</b></div><div class=\"sk-container\" hidden><div class=\"sk-item\"><div class=\"sk-estimator sk-toggleable\"><input class=\"sk-toggleable__control sk-hidden--visually\" id=\"sk-estimator-id-2\" type=\"checkbox\" checked><label for=\"sk-estimator-id-2\" class=\"sk-toggleable__label sk-toggleable__label-arrow\">TruncatedSVD</label><div class=\"sk-toggleable__content\"><pre>TruncatedSVD(n_components=3, n_iter=100, random_state=42)</pre></div></div></div></div></div>"
            ],
            "text/plain": [
              "TruncatedSVD(n_components=3, n_iter=100, random_state=42)"
            ]
          },
          "execution_count": 27,
          "metadata": {},
          "output_type": "execute_result"
        }
      ],
      "source": [
        "# Create SVD object\n",
        "lsi = TruncatedSVD(n_components=3, n_iter=100, random_state=42)\n",
        "\n",
        "# Fit SVD model on data\n",
        "lsi.fit(train_data)\n"
      ]
    },
    {
      "cell_type": "code",
      "execution_count": 30,
      "metadata": {},
      "outputs": [],
      "source": [
        "lsi2 = TruncatedSVD(n_components=3)"
      ]
    },
    {
      "cell_type": "code",
      "execution_count": 31,
      "metadata": {},
      "outputs": [
        {
          "data": {
            "text/plain": [
              "array([[ 0.29320447,  0.33087331,  0.85949648],\n",
              "       [ 0.41874853,  0.56863882, -0.25174065],\n",
              "       [ 0.54509984,  0.33769411, -0.34738801],\n",
              "       [ 0.53032953, -0.44971486,  0.21719312],\n",
              "       [ 0.52500024, -0.53468575, -0.1379332 ]])"
            ]
          },
          "execution_count": 31,
          "metadata": {},
          "output_type": "execute_result"
        }
      ],
      "source": [
        "lsi2.fit_transform(train_data)"
      ]
    },
    {
      "cell_type": "code",
      "execution_count": 28,
      "metadata": {
        "colab": {
          "base_uri": "https://localhost:8080/"
        },
        "id": "k6rkTPCYFx_y",
        "outputId": "5ddb71dc-513c-4d6e-d2cf-868c534d80cc"
      },
      "outputs": [
        {
          "data": {
            "text/plain": [
              "array([1.05609076, 1.01734796, 0.99447695])"
            ]
          },
          "execution_count": 28,
          "metadata": {},
          "output_type": "execute_result"
        }
      ],
      "source": [
        "# Get Singular values and Components\n",
        "Sigma = lsi.singular_values_\n",
        "Sigma"
      ]
    },
    {
      "cell_type": "code",
      "execution_count": 32,
      "metadata": {},
      "outputs": [
        {
          "data": {
            "text/plain": [
              "array([1.05609076, 1.01734796, 0.99447695])"
            ]
          },
          "execution_count": 32,
          "metadata": {},
          "output_type": "execute_result"
        }
      ],
      "source": [
        "Sigma2 = lsi2.singular_values_\n",
        "Sigma2"
      ]
    },
    {
      "cell_type": "code",
      "execution_count": 33,
      "metadata": {
        "colab": {
          "base_uri": "https://localhost:8080/"
        },
        "id": "8qCH76geMtiC",
        "outputId": "d21748fc-4052-406e-a50f-20ed121853f3"
      },
      "outputs": [
        {
          "data": {
            "text/plain": [
              "0.5229249537209735"
            ]
          },
          "execution_count": 33,
          "metadata": {},
          "output_type": "execute_result"
        }
      ],
      "source": [
        "lsi.explained_variance_ratio_.sum()"
      ]
    },
    {
      "cell_type": "code",
      "execution_count": 34,
      "metadata": {
        "colab": {
          "base_uri": "https://localhost:8080/"
        },
        "id": "KTpxLPgLF62r",
        "outputId": "e8b56d82-3c6c-4739-e17b-6921ed5dd97f"
      },
      "outputs": [
        {
          "data": {
            "text/plain": [
              "array([[ 0.11658396,  0.10653371,  0.07814384,  0.11658396,  0.0911447 ,\n",
              "         0.0911447 ,  0.0911447 ,  0.12366413,  0.07814384,  0.0911447 ,\n",
              "         0.12366413,  0.12366413,  0.07814384,  0.12366413,  0.11658396,\n",
              "         0.12366413,  0.11658396,  0.12366413,  0.10653371,  0.0911447 ,\n",
              "         0.10653371,  0.07814384,  0.0911447 ,  0.10653371,  0.12366413,\n",
              "         0.0911447 ,  0.10653371,  0.10653371,  0.0911447 ,  0.10653371,\n",
              "         0.10653371,  0.0911447 ,  0.17330641,  0.11658396,  0.10653371,\n",
              "         0.11658396,  0.11658396,  0.0911447 ,  0.10653371,  0.26596066,\n",
              "         0.12366413,  0.10653371,  0.0911447 ,  0.0911447 ,  0.12366413,\n",
              "         0.11658396,  0.11658396,  0.19383064,  0.0911447 ,  0.0911447 ,\n",
              "         0.10653371,  0.11658396,  0.0911447 ,  0.22506366,  0.07814384,\n",
              "         0.10653371,  0.10653371,  0.07814384,  0.07814384,  0.07814384,\n",
              "         0.10653371,  0.12366413,  0.10653371,  0.12366413,  0.11658396,\n",
              "         0.07814384,  0.10653371,  0.12366413,  0.11658396,  0.0911447 ,\n",
              "         0.11658396,  0.07814384,  0.07814384,  0.11658396,  0.12366413,\n",
              "         0.11658396,  0.12366413],\n",
              "       [-0.12795032, -0.09735134,  0.09502751, -0.12795032,  0.13337613,\n",
              "         0.13337613,  0.13337613,  0.08255713,  0.09502751,  0.13337613,\n",
              "         0.08255713,  0.08255713,  0.09502751,  0.08255713, -0.12795032,\n",
              "         0.08255713, -0.12795032,  0.08255713, -0.09735134,  0.13337613,\n",
              "        -0.09735134,  0.09502751,  0.13337613, -0.09735134,  0.08255713,\n",
              "         0.13337613, -0.09735134, -0.09735134,  0.13337613, -0.09735134,\n",
              "        -0.09735134,  0.13337613,  0.17421359, -0.12795032, -0.09735134,\n",
              "        -0.12795032, -0.12795032,  0.13337613, -0.09735134, -0.2603144 ,\n",
              "         0.08255713, -0.09735134,  0.13337613,  0.13337613,  0.08255713,\n",
              "        -0.12795032, -0.12795032, -0.03662293,  0.13337613,  0.13337613,\n",
              "        -0.09735134, -0.12795032,  0.13337613,  0.12034383,  0.09502751,\n",
              "        -0.09735134, -0.09735134,  0.09502751,  0.09502751,  0.09502751,\n",
              "        -0.09735134,  0.08255713, -0.09735134,  0.08255713, -0.12795032,\n",
              "         0.09502751, -0.09735134,  0.08255713, -0.12795032,  0.13337613,\n",
              "        -0.12795032,  0.09502751,  0.09502751, -0.12795032,  0.08255713,\n",
              "        -0.12795032,  0.08255713],\n",
              "       [-0.03454309,  0.04920399,  0.25833386, -0.03454309, -0.06179375,\n",
              "        -0.06179375, -0.06179375, -0.08887826,  0.25833386, -0.06179375,\n",
              "        -0.08887826, -0.08887826,  0.25833386, -0.08887826, -0.03454309,\n",
              "        -0.08887826, -0.03454309, -0.08887826,  0.04920399, -0.06179375,\n",
              "         0.04920399,  0.25833386, -0.06179375,  0.04920399, -0.08887826,\n",
              "        -0.06179375,  0.04920399,  0.04920399, -0.06179375,  0.04920399,\n",
              "         0.04920399, -0.06179375, -0.12156123, -0.03454309,  0.04920399,\n",
              "        -0.03454309, -0.03454309, -0.06179375,  0.04920399,  0.0515258 ,\n",
              "        -0.08887826,  0.04920399, -0.06179375, -0.06179375, -0.08887826,\n",
              "        -0.03454309, -0.03454309, -0.09957557, -0.06179375, -0.06179375,\n",
              "         0.04920399, -0.03454309, -0.06179375,  0.08837548,  0.25833386,\n",
              "         0.04920399,  0.04920399,  0.25833386,  0.25833386,  0.25833386,\n",
              "         0.04920399, -0.08887826,  0.04920399, -0.08887826, -0.03454309,\n",
              "         0.25833386,  0.04920399, -0.08887826, -0.03454309, -0.06179375,\n",
              "        -0.03454309,  0.25833386,  0.25833386, -0.03454309, -0.08887826,\n",
              "        -0.03454309, -0.08887826]])"
            ]
          },
          "execution_count": 34,
          "metadata": {},
          "output_type": "execute_result"
        }
      ],
      "source": [
        "V_transpose = lsi.components_\n",
        "V_transpose"
      ]
    },
    {
      "cell_type": "code",
      "execution_count": 35,
      "metadata": {
        "colab": {
          "base_uri": "https://localhost:8080/"
        },
        "id": "5jh1Tppv6N_r",
        "outputId": "e5980bde-c8ef-4afc-f5f6-00e9e7015502"
      },
      "outputs": [
        {
          "data": {
            "text/plain": [
              "(3, 77)"
            ]
          },
          "execution_count": 35,
          "metadata": {},
          "output_type": "execute_result"
        }
      ],
      "source": [
        "V_transpose.shape"
      ]
    },
    {
      "cell_type": "code",
      "execution_count": 44,
      "metadata": {
        "id": "Hp2NcssU7reC"
      },
      "outputs": [],
      "source": [
        "from sklearn.utils.extmath import randomized_svd\n",
        "U, Sigma, VT = randomized_svd(train_data,\n",
        "                              n_components=3,\n",
        "                              random_state=2)"
      ]
    },
    {
      "cell_type": "code",
      "execution_count": 37,
      "metadata": {
        "colab": {
          "base_uri": "https://localhost:8080/"
        },
        "id": "2tvH_6l5zrIf",
        "outputId": "fc1f7f5b-e4f0-428a-d4ea-3e15f0c81c26"
      },
      "outputs": [
        {
          "data": {
            "text/plain": [
              "((5, 77), (5, 3), (3,), (3, 77))"
            ]
          },
          "execution_count": 37,
          "metadata": {},
          "output_type": "execute_result"
        }
      ],
      "source": [
        "train_data.shape, U.shape, Sigma.shape, VT.shape"
      ]
    },
    {
      "cell_type": "code",
      "execution_count": 38,
      "metadata": {
        "colab": {
          "base_uri": "https://localhost:8080/"
        },
        "id": "HEnSBzxR873v",
        "outputId": "aa99a237-0422-4661-a60b-63087f07c440"
      },
      "outputs": [
        {
          "data": {
            "text/plain": [
              "(5, 3)"
            ]
          },
          "execution_count": 38,
          "metadata": {},
          "output_type": "execute_result"
        }
      ],
      "source": [
        "U.shape"
      ]
    },
    {
      "cell_type": "code",
      "execution_count": 39,
      "metadata": {
        "colab": {
          "base_uri": "https://localhost:8080/"
        },
        "id": "I1b2Mh8j877s",
        "outputId": "9367fabe-cec0-491f-dc69-cf25c13a60b4"
      },
      "outputs": [
        {
          "data": {
            "text/plain": [
              "(3,)"
            ]
          },
          "execution_count": 39,
          "metadata": {},
          "output_type": "execute_result"
        }
      ],
      "source": [
        "Sigma.shape"
      ]
    },
    {
      "cell_type": "code",
      "execution_count": 40,
      "metadata": {
        "colab": {
          "base_uri": "https://localhost:8080/"
        },
        "id": "ROeD-kAu7rgU",
        "outputId": "0cc1970f-1667-44de-8a56-1f13e39e2b6b"
      },
      "outputs": [
        {
          "data": {
            "text/plain": [
              "(3, 77)"
            ]
          },
          "execution_count": 40,
          "metadata": {},
          "output_type": "execute_result"
        }
      ],
      "source": [
        "VT.shape"
      ]
    },
    {
      "cell_type": "code",
      "execution_count": 41,
      "metadata": {
        "colab": {
          "base_uri": "https://localhost:8080/"
        },
        "id": "XksY3GHn7rio",
        "outputId": "5bf4ee01-2a21-431a-bd4e-fac9823456ec"
      },
      "outputs": [
        {
          "data": {
            "text/plain": [
              "(3, 77)"
            ]
          },
          "execution_count": 41,
          "metadata": {},
          "output_type": "execute_result"
        }
      ],
      "source": [
        "lsi.components_.shape"
      ]
    },
    {
      "cell_type": "code",
      "execution_count": 42,
      "metadata": {
        "colab": {
          "base_uri": "https://localhost:8080/"
        },
        "id": "fnonBkJEyp3_",
        "outputId": "b2558953-dc04-40e6-c7a9-53f621e2c7a9"
      },
      "outputs": [
        {
          "data": {
            "text/plain": [
              "array([[ 0.27763189,  0.32523121,  0.86426989],\n",
              "       [ 0.39650809,  0.55894231, -0.25313875],\n",
              "       [ 0.51614867,  0.3319357 , -0.3493173 ],\n",
              "       [ 0.50216283, -0.44204626,  0.21839935],\n",
              "       [ 0.49711659, -0.52556821, -0.13869924]])"
            ]
          },
          "execution_count": 42,
          "metadata": {},
          "output_type": "execute_result"
        }
      ],
      "source": [
        "U"
      ]
    },
    {
      "cell_type": "code",
      "execution_count": 43,
      "metadata": {
        "colab": {
          "base_uri": "https://localhost:8080/"
        },
        "id": "EjO6NlTEyIMh",
        "outputId": "87bdb97e-5b32-4b1b-9555-b7c648244e48"
      },
      "outputs": [
        {
          "data": {
            "text/plain": [
              "array([[ 0.11658396,  0.10653371,  0.07814384,  0.11658396,  0.0911447 ,\n",
              "         0.0911447 ,  0.0911447 ,  0.12366413,  0.07814384,  0.0911447 ,\n",
              "         0.12366413,  0.12366413,  0.07814384,  0.12366413,  0.11658396,\n",
              "         0.12366413,  0.11658396,  0.12366413,  0.10653371,  0.0911447 ,\n",
              "         0.10653371,  0.07814384,  0.0911447 ,  0.10653371,  0.12366413,\n",
              "         0.0911447 ,  0.10653371,  0.10653371,  0.0911447 ,  0.10653371,\n",
              "         0.10653371,  0.0911447 ,  0.17330641,  0.11658396,  0.10653371,\n",
              "         0.11658396,  0.11658396,  0.0911447 ,  0.10653371,  0.26596066,\n",
              "         0.12366413,  0.10653371,  0.0911447 ,  0.0911447 ,  0.12366413,\n",
              "         0.11658396,  0.11658396,  0.19383064,  0.0911447 ,  0.0911447 ,\n",
              "         0.10653371,  0.11658396,  0.0911447 ,  0.22506366,  0.07814384,\n",
              "         0.10653371,  0.10653371,  0.07814384,  0.07814384,  0.07814384,\n",
              "         0.10653371,  0.12366413,  0.10653371,  0.12366413,  0.11658396,\n",
              "         0.07814384,  0.10653371,  0.12366413,  0.11658396,  0.0911447 ,\n",
              "         0.11658396,  0.07814384,  0.07814384,  0.11658396,  0.12366413,\n",
              "         0.11658396,  0.12366413],\n",
              "       [-0.12795032, -0.09735134,  0.09502751, -0.12795032,  0.13337613,\n",
              "         0.13337613,  0.13337613,  0.08255713,  0.09502751,  0.13337613,\n",
              "         0.08255713,  0.08255713,  0.09502751,  0.08255713, -0.12795032,\n",
              "         0.08255713, -0.12795032,  0.08255713, -0.09735134,  0.13337613,\n",
              "        -0.09735134,  0.09502751,  0.13337613, -0.09735134,  0.08255713,\n",
              "         0.13337613, -0.09735134, -0.09735134,  0.13337613, -0.09735134,\n",
              "        -0.09735134,  0.13337613,  0.17421359, -0.12795032, -0.09735134,\n",
              "        -0.12795032, -0.12795032,  0.13337613, -0.09735134, -0.2603144 ,\n",
              "         0.08255713, -0.09735134,  0.13337613,  0.13337613,  0.08255713,\n",
              "        -0.12795032, -0.12795032, -0.03662293,  0.13337613,  0.13337613,\n",
              "        -0.09735134, -0.12795032,  0.13337613,  0.12034383,  0.09502751,\n",
              "        -0.09735134, -0.09735134,  0.09502751,  0.09502751,  0.09502751,\n",
              "        -0.09735134,  0.08255713, -0.09735134,  0.08255713, -0.12795032,\n",
              "         0.09502751, -0.09735134,  0.08255713, -0.12795032,  0.13337613,\n",
              "        -0.12795032,  0.09502751,  0.09502751, -0.12795032,  0.08255713,\n",
              "        -0.12795032,  0.08255713],\n",
              "       [-0.03454309,  0.04920399,  0.25833386, -0.03454309, -0.06179375,\n",
              "        -0.06179375, -0.06179375, -0.08887826,  0.25833386, -0.06179375,\n",
              "        -0.08887826, -0.08887826,  0.25833386, -0.08887826, -0.03454309,\n",
              "        -0.08887826, -0.03454309, -0.08887826,  0.04920399, -0.06179375,\n",
              "         0.04920399,  0.25833386, -0.06179375,  0.04920399, -0.08887826,\n",
              "        -0.06179375,  0.04920399,  0.04920399, -0.06179375,  0.04920399,\n",
              "         0.04920399, -0.06179375, -0.12156123, -0.03454309,  0.04920399,\n",
              "        -0.03454309, -0.03454309, -0.06179375,  0.04920399,  0.0515258 ,\n",
              "        -0.08887826,  0.04920399, -0.06179375, -0.06179375, -0.08887826,\n",
              "        -0.03454309, -0.03454309, -0.09957557, -0.06179375, -0.06179375,\n",
              "         0.04920399, -0.03454309, -0.06179375,  0.08837548,  0.25833386,\n",
              "         0.04920399,  0.04920399,  0.25833386,  0.25833386,  0.25833386,\n",
              "         0.04920399, -0.08887826,  0.04920399, -0.08887826, -0.03454309,\n",
              "         0.25833386,  0.04920399, -0.08887826, -0.03454309, -0.06179375,\n",
              "        -0.03454309,  0.25833386,  0.25833386, -0.03454309, -0.08887826,\n",
              "        -0.03454309, -0.08887826]])"
            ]
          },
          "execution_count": 43,
          "metadata": {},
          "output_type": "execute_result"
        }
      ],
      "source": [
        "VT"
      ]
    },
    {
      "cell_type": "code",
      "execution_count": 45,
      "metadata": {
        "colab": {
          "base_uri": "https://localhost:8080/",
          "height": 168
        },
        "id": "COx8_ua8ySqS",
        "outputId": "e263a825-329a-4e1a-ac2a-006d9a9fe754"
      },
      "outputs": [
        {
          "data": {
            "text/html": [
              "<div>\n",
              "<style scoped>\n",
              "    .dataframe tbody tr th:only-of-type {\n",
              "        vertical-align: middle;\n",
              "    }\n",
              "\n",
              "    .dataframe tbody tr th {\n",
              "        vertical-align: top;\n",
              "    }\n",
              "\n",
              "    .dataframe thead th {\n",
              "        text-align: right;\n",
              "    }\n",
              "</style>\n",
              "<table border=\"1\" class=\"dataframe\">\n",
              "  <thead>\n",
              "    <tr style=\"text-align: right;\">\n",
              "      <th></th>\n",
              "      <th>afp</th>\n",
              "      <th>authorities</th>\n",
              "      <th>band</th>\n",
              "      <th>barely</th>\n",
              "      <th>bets</th>\n",
              "      <th>carlyle</th>\n",
              "      <th>controversial</th>\n",
              "      <th>crude</th>\n",
              "      <th>cynics</th>\n",
              "      <th>defense</th>\n",
              "      <th>...</th>\n",
              "      <th>summer</th>\n",
              "      <th>tearaway</th>\n",
              "      <th>timed</th>\n",
              "      <th>toppling</th>\n",
              "      <th>ultra</th>\n",
              "      <th>wall</th>\n",
              "      <th>wallets</th>\n",
              "      <th>week</th>\n",
              "      <th>world</th>\n",
              "      <th>worries</th>\n",
              "    </tr>\n",
              "  </thead>\n",
              "  <tbody>\n",
              "    <tr>\n",
              "      <th>0</th>\n",
              "      <td>0.12</td>\n",
              "      <td>0.11</td>\n",
              "      <td>0.08</td>\n",
              "      <td>0.12</td>\n",
              "      <td>0.09</td>\n",
              "      <td>0.09</td>\n",
              "      <td>0.09</td>\n",
              "      <td>0.12</td>\n",
              "      <td>0.08</td>\n",
              "      <td>0.09</td>\n",
              "      <td>...</td>\n",
              "      <td>0.12</td>\n",
              "      <td>0.12</td>\n",
              "      <td>0.09</td>\n",
              "      <td>0.12</td>\n",
              "      <td>0.08</td>\n",
              "      <td>0.08</td>\n",
              "      <td>0.12</td>\n",
              "      <td>0.12</td>\n",
              "      <td>0.12</td>\n",
              "      <td>0.12</td>\n",
              "    </tr>\n",
              "    <tr>\n",
              "      <th>1</th>\n",
              "      <td>-0.13</td>\n",
              "      <td>-0.10</td>\n",
              "      <td>0.10</td>\n",
              "      <td>-0.13</td>\n",
              "      <td>0.13</td>\n",
              "      <td>0.13</td>\n",
              "      <td>0.13</td>\n",
              "      <td>0.08</td>\n",
              "      <td>0.10</td>\n",
              "      <td>0.13</td>\n",
              "      <td>...</td>\n",
              "      <td>0.08</td>\n",
              "      <td>-0.13</td>\n",
              "      <td>0.13</td>\n",
              "      <td>-0.13</td>\n",
              "      <td>0.10</td>\n",
              "      <td>0.10</td>\n",
              "      <td>-0.13</td>\n",
              "      <td>0.08</td>\n",
              "      <td>-0.13</td>\n",
              "      <td>0.08</td>\n",
              "    </tr>\n",
              "    <tr>\n",
              "      <th>2</th>\n",
              "      <td>-0.03</td>\n",
              "      <td>0.05</td>\n",
              "      <td>0.26</td>\n",
              "      <td>-0.03</td>\n",
              "      <td>-0.06</td>\n",
              "      <td>-0.06</td>\n",
              "      <td>-0.06</td>\n",
              "      <td>-0.09</td>\n",
              "      <td>0.26</td>\n",
              "      <td>-0.06</td>\n",
              "      <td>...</td>\n",
              "      <td>-0.09</td>\n",
              "      <td>-0.03</td>\n",
              "      <td>-0.06</td>\n",
              "      <td>-0.03</td>\n",
              "      <td>0.26</td>\n",
              "      <td>0.26</td>\n",
              "      <td>-0.03</td>\n",
              "      <td>-0.09</td>\n",
              "      <td>-0.03</td>\n",
              "      <td>-0.09</td>\n",
              "    </tr>\n",
              "  </tbody>\n",
              "</table>\n",
              "<p>3 rows × 77 columns</p>\n",
              "</div>"
            ],
            "text/plain": [
              "    afp  authorities  band  barely  bets  carlyle  controversial  crude  \\\n",
              "0  0.12         0.11  0.08    0.12  0.09     0.09           0.09   0.12   \n",
              "1 -0.13        -0.10  0.10   -0.13  0.13     0.13           0.13   0.08   \n",
              "2 -0.03         0.05  0.26   -0.03 -0.06    -0.06          -0.06  -0.09   \n",
              "\n",
              "   cynics  defense  ...  summer  tearaway  timed  toppling  ultra  wall  \\\n",
              "0    0.08     0.09  ...    0.12      0.12   0.09      0.12   0.08  0.08   \n",
              "1    0.10     0.13  ...    0.08     -0.13   0.13     -0.13   0.10  0.10   \n",
              "2    0.26    -0.06  ...   -0.09     -0.03  -0.06     -0.03   0.26  0.26   \n",
              "\n",
              "   wallets  week  world  worries  \n",
              "0     0.12  0.12   0.12     0.12  \n",
              "1    -0.13  0.08  -0.13     0.08  \n",
              "2    -0.03 -0.09  -0.03    -0.09  \n",
              "\n",
              "[3 rows x 77 columns]"
            ]
          },
          "execution_count": 45,
          "metadata": {},
          "output_type": "execute_result"
        }
      ],
      "source": [
        "VT_names = pd.DataFrame(VT, columns=terms).round(2)\n",
        "VT_names"
      ]
    },
    {
      "cell_type": "code",
      "execution_count": 46,
      "metadata": {
        "colab": {
          "base_uri": "https://localhost:8080/",
          "height": 107
        },
        "id": "xlLUU0tiJR78",
        "outputId": "4ceffe91-bb3d-4d00-d99d-1a29b1d61eaf"
      },
      "outputs": [
        {
          "data": {
            "text/html": [
              "<div>\n",
              "<style scoped>\n",
              "    .dataframe tbody tr th:only-of-type {\n",
              "        vertical-align: middle;\n",
              "    }\n",
              "\n",
              "    .dataframe tbody tr th {\n",
              "        vertical-align: top;\n",
              "    }\n",
              "\n",
              "    .dataframe thead th {\n",
              "        text-align: right;\n",
              "    }\n",
              "</style>\n",
              "<table border=\"1\" class=\"dataframe\">\n",
              "  <thead>\n",
              "    <tr style=\"text-align: right;\">\n",
              "      <th></th>\n",
              "      <th>oil</th>\n",
              "      <th>reuters</th>\n",
              "      <th>prices</th>\n",
              "      <th>market</th>\n",
              "      <th>wallets</th>\n",
              "      <th>presidential</th>\n",
              "      <th>menace</th>\n",
              "      <th>months</th>\n",
              "      <th>new</th>\n",
              "      <th>world</th>\n",
              "      <th>...</th>\n",
              "      <th>cynics</th>\n",
              "      <th>street</th>\n",
              "      <th>seeing</th>\n",
              "      <th>green</th>\n",
              "      <th>s</th>\n",
              "      <th>ultra</th>\n",
              "      <th>wall</th>\n",
              "      <th>dwindling</th>\n",
              "      <th>band</th>\n",
              "      <th>short</th>\n",
              "    </tr>\n",
              "  </thead>\n",
              "  <tbody>\n",
              "    <tr>\n",
              "      <th>0</th>\n",
              "      <td>0.27</td>\n",
              "      <td>0.23</td>\n",
              "      <td>0.19</td>\n",
              "      <td>0.17</td>\n",
              "      <td>0.12</td>\n",
              "      <td>0.12</td>\n",
              "      <td>0.12</td>\n",
              "      <td>0.12</td>\n",
              "      <td>0.12</td>\n",
              "      <td>0.12</td>\n",
              "      <td>...</td>\n",
              "      <td>0.08</td>\n",
              "      <td>0.08</td>\n",
              "      <td>0.08</td>\n",
              "      <td>0.08</td>\n",
              "      <td>0.08</td>\n",
              "      <td>0.08</td>\n",
              "      <td>0.08</td>\n",
              "      <td>0.08</td>\n",
              "      <td>0.08</td>\n",
              "      <td>0.08</td>\n",
              "    </tr>\n",
              "  </tbody>\n",
              "</table>\n",
              "<p>1 rows × 77 columns</p>\n",
              "</div>"
            ],
            "text/plain": [
              "    oil  reuters  prices  market  wallets  presidential  menace  months   new  \\\n",
              "0  0.27     0.23    0.19    0.17     0.12          0.12    0.12    0.12  0.12   \n",
              "\n",
              "   world  ...  cynics  street  seeing  green     s  ultra  wall  dwindling  \\\n",
              "0   0.12  ...    0.08    0.08    0.08   0.08  0.08   0.08  0.08       0.08   \n",
              "\n",
              "   band  short  \n",
              "0  0.08   0.08  \n",
              "\n",
              "[1 rows x 77 columns]"
            ]
          },
          "execution_count": 46,
          "metadata": {},
          "output_type": "execute_result"
        }
      ],
      "source": [
        "VT_names[0:1].sort_values(by=0, axis=1, ascending=False)"
      ]
    },
    {
      "cell_type": "code",
      "execution_count": 47,
      "metadata": {
        "colab": {
          "base_uri": "https://localhost:8080/",
          "height": 107
        },
        "id": "XUxD4EGiKpM3",
        "outputId": "e456b11e-568e-4590-d630-a72b1b6c614e"
      },
      "outputs": [
        {
          "data": {
            "text/html": [
              "<div>\n",
              "<style scoped>\n",
              "    .dataframe tbody tr th:only-of-type {\n",
              "        vertical-align: middle;\n",
              "    }\n",
              "\n",
              "    .dataframe tbody tr th {\n",
              "        vertical-align: top;\n",
              "    }\n",
              "\n",
              "    .dataframe thead th {\n",
              "        text-align: right;\n",
              "    }\n",
              "</style>\n",
              "<table border=\"1\" class=\"dataframe\">\n",
              "  <thead>\n",
              "    <tr style=\"text-align: right;\">\n",
              "      <th></th>\n",
              "      <th>market</th>\n",
              "      <th>industry</th>\n",
              "      <th>timed</th>\n",
              "      <th>private</th>\n",
              "      <th>reputation</th>\n",
              "      <th>plays</th>\n",
              "      <th>placed</th>\n",
              "      <th>occasionally</th>\n",
              "      <th>making</th>\n",
              "      <th>investment</th>\n",
              "      <th>...</th>\n",
              "      <th>records</th>\n",
              "      <th>straining</th>\n",
              "      <th>tearaway</th>\n",
              "      <th>presidential</th>\n",
              "      <th>menace</th>\n",
              "      <th>months</th>\n",
              "      <th>new</th>\n",
              "      <th>present</th>\n",
              "      <th>afp</th>\n",
              "      <th>oil</th>\n",
              "    </tr>\n",
              "  </thead>\n",
              "  <tbody>\n",
              "    <tr>\n",
              "      <th>1</th>\n",
              "      <td>0.17</td>\n",
              "      <td>0.13</td>\n",
              "      <td>0.13</td>\n",
              "      <td>0.13</td>\n",
              "      <td>0.13</td>\n",
              "      <td>0.13</td>\n",
              "      <td>0.13</td>\n",
              "      <td>0.13</td>\n",
              "      <td>0.13</td>\n",
              "      <td>0.13</td>\n",
              "      <td>...</td>\n",
              "      <td>-0.13</td>\n",
              "      <td>-0.13</td>\n",
              "      <td>-0.13</td>\n",
              "      <td>-0.13</td>\n",
              "      <td>-0.13</td>\n",
              "      <td>-0.13</td>\n",
              "      <td>-0.13</td>\n",
              "      <td>-0.13</td>\n",
              "      <td>-0.13</td>\n",
              "      <td>-0.26</td>\n",
              "    </tr>\n",
              "  </tbody>\n",
              "</table>\n",
              "<p>1 rows × 77 columns</p>\n",
              "</div>"
            ],
            "text/plain": [
              "   market  industry  timed  private  reputation  plays  placed  occasionally  \\\n",
              "1    0.17      0.13   0.13     0.13        0.13   0.13    0.13          0.13   \n",
              "\n",
              "   making  investment  ...  records  straining  tearaway  presidential  \\\n",
              "1    0.13        0.13  ...    -0.13      -0.13     -0.13         -0.13   \n",
              "\n",
              "   menace  months   new  present   afp   oil  \n",
              "1   -0.13   -0.13 -0.13    -0.13 -0.13 -0.26  \n",
              "\n",
              "[1 rows x 77 columns]"
            ]
          },
          "execution_count": 47,
          "metadata": {},
          "output_type": "execute_result"
        }
      ],
      "source": [
        "VT_names[1:2].sort_values(by=1, axis=1, ascending=False)"
      ]
    },
    {
      "cell_type": "code",
      "execution_count": 48,
      "metadata": {
        "colab": {
          "base_uri": "https://localhost:8080/",
          "height": 107
        },
        "id": "VBbRzcn1KpPx",
        "outputId": "f1e0f85c-5c3c-4d69-abdf-1f573dc3d831"
      },
      "outputs": [
        {
          "data": {
            "text/html": [
              "<div>\n",
              "<style scoped>\n",
              "    .dataframe tbody tr th:only-of-type {\n",
              "        vertical-align: middle;\n",
              "    }\n",
              "\n",
              "    .dataframe tbody tr th {\n",
              "        vertical-align: top;\n",
              "    }\n",
              "\n",
              "    .dataframe thead th {\n",
              "        text-align: right;\n",
              "    }\n",
              "</style>\n",
              "<table border=\"1\" class=\"dataframe\">\n",
              "  <thead>\n",
              "    <tr style=\"text-align: right;\">\n",
              "      <th></th>\n",
              "      <th>seeing</th>\n",
              "      <th>cynics</th>\n",
              "      <th>s</th>\n",
              "      <th>sellers</th>\n",
              "      <th>short</th>\n",
              "      <th>dwindling</th>\n",
              "      <th>street</th>\n",
              "      <th>ultra</th>\n",
              "      <th>wall</th>\n",
              "      <th>band</th>\n",
              "      <th>...</th>\n",
              "      <th>earnings</th>\n",
              "      <th>stock</th>\n",
              "      <th>soaring</th>\n",
              "      <th>economy</th>\n",
              "      <th>outlook</th>\n",
              "      <th>hang</th>\n",
              "      <th>plus</th>\n",
              "      <th>worries</th>\n",
              "      <th>prices</th>\n",
              "      <th>market</th>\n",
              "    </tr>\n",
              "  </thead>\n",
              "  <tbody>\n",
              "    <tr>\n",
              "      <th>2</th>\n",
              "      <td>0.26</td>\n",
              "      <td>0.26</td>\n",
              "      <td>0.26</td>\n",
              "      <td>0.26</td>\n",
              "      <td>0.26</td>\n",
              "      <td>0.26</td>\n",
              "      <td>0.26</td>\n",
              "      <td>0.26</td>\n",
              "      <td>0.26</td>\n",
              "      <td>0.26</td>\n",
              "      <td>...</td>\n",
              "      <td>-0.09</td>\n",
              "      <td>-0.09</td>\n",
              "      <td>-0.09</td>\n",
              "      <td>-0.09</td>\n",
              "      <td>-0.09</td>\n",
              "      <td>-0.09</td>\n",
              "      <td>-0.09</td>\n",
              "      <td>-0.09</td>\n",
              "      <td>-0.1</td>\n",
              "      <td>-0.12</td>\n",
              "    </tr>\n",
              "  </tbody>\n",
              "</table>\n",
              "<p>1 rows × 77 columns</p>\n",
              "</div>"
            ],
            "text/plain": [
              "   seeing  cynics     s  sellers  short  dwindling  street  ultra  wall  band  \\\n",
              "2    0.26    0.26  0.26     0.26   0.26       0.26    0.26   0.26  0.26  0.26   \n",
              "\n",
              "   ...  earnings  stock  soaring  economy  outlook  hang  plus  worries  \\\n",
              "2  ...     -0.09  -0.09    -0.09    -0.09    -0.09 -0.09 -0.09    -0.09   \n",
              "\n",
              "   prices  market  \n",
              "2    -0.1   -0.12  \n",
              "\n",
              "[1 rows x 77 columns]"
            ]
          },
          "execution_count": 48,
          "metadata": {},
          "output_type": "execute_result"
        }
      ],
      "source": [
        "VT_names[2:3].sort_values(by=2, axis=1, ascending=False)"
      ]
    },
    {
      "cell_type": "code",
      "execution_count": 51,
      "metadata": {},
      "outputs": [
        {
          "data": {
            "text/plain": [
              "array([[ 0.11658396,  0.10653371,  0.07814384,  0.11658396,  0.0911447 ,\n",
              "         0.0911447 ,  0.0911447 ,  0.12366413,  0.07814384,  0.0911447 ,\n",
              "         0.12366413,  0.12366413,  0.07814384,  0.12366413,  0.11658396,\n",
              "         0.12366413,  0.11658396,  0.12366413,  0.10653371,  0.0911447 ,\n",
              "         0.10653371,  0.07814384,  0.0911447 ,  0.10653371,  0.12366413,\n",
              "         0.0911447 ,  0.10653371,  0.10653371,  0.0911447 ,  0.10653371,\n",
              "         0.10653371,  0.0911447 ,  0.17330641,  0.11658396,  0.10653371,\n",
              "         0.11658396,  0.11658396,  0.0911447 ,  0.10653371,  0.26596066,\n",
              "         0.12366413,  0.10653371,  0.0911447 ,  0.0911447 ,  0.12366413,\n",
              "         0.11658396,  0.11658396,  0.19383064,  0.0911447 ,  0.0911447 ,\n",
              "         0.10653371,  0.11658396,  0.0911447 ,  0.22506366,  0.07814384,\n",
              "         0.10653371,  0.10653371,  0.07814384,  0.07814384,  0.07814384,\n",
              "         0.10653371,  0.12366413,  0.10653371,  0.12366413,  0.11658396,\n",
              "         0.07814384,  0.10653371,  0.12366413,  0.11658396,  0.0911447 ,\n",
              "         0.11658396,  0.07814384,  0.07814384,  0.11658396,  0.12366413,\n",
              "         0.11658396,  0.12366413],\n",
              "       [-0.12795032, -0.09735134,  0.09502751, -0.12795032,  0.13337613,\n",
              "         0.13337613,  0.13337613,  0.08255713,  0.09502751,  0.13337613,\n",
              "         0.08255713,  0.08255713,  0.09502751,  0.08255713, -0.12795032,\n",
              "         0.08255713, -0.12795032,  0.08255713, -0.09735134,  0.13337613,\n",
              "        -0.09735134,  0.09502751,  0.13337613, -0.09735134,  0.08255713,\n",
              "         0.13337613, -0.09735134, -0.09735134,  0.13337613, -0.09735134,\n",
              "        -0.09735134,  0.13337613,  0.17421359, -0.12795032, -0.09735134,\n",
              "        -0.12795032, -0.12795032,  0.13337613, -0.09735134, -0.2603144 ,\n",
              "         0.08255713, -0.09735134,  0.13337613,  0.13337613,  0.08255713,\n",
              "        -0.12795032, -0.12795032, -0.03662293,  0.13337613,  0.13337613,\n",
              "        -0.09735134, -0.12795032,  0.13337613,  0.12034383,  0.09502751,\n",
              "        -0.09735134, -0.09735134,  0.09502751,  0.09502751,  0.09502751,\n",
              "        -0.09735134,  0.08255713, -0.09735134,  0.08255713, -0.12795032,\n",
              "         0.09502751, -0.09735134,  0.08255713, -0.12795032,  0.13337613,\n",
              "        -0.12795032,  0.09502751,  0.09502751, -0.12795032,  0.08255713,\n",
              "        -0.12795032,  0.08255713],\n",
              "       [-0.03454309,  0.04920399,  0.25833386, -0.03454309, -0.06179375,\n",
              "        -0.06179375, -0.06179375, -0.08887826,  0.25833386, -0.06179375,\n",
              "        -0.08887826, -0.08887826,  0.25833386, -0.08887826, -0.03454309,\n",
              "        -0.08887826, -0.03454309, -0.08887826,  0.04920399, -0.06179375,\n",
              "         0.04920399,  0.25833386, -0.06179375,  0.04920399, -0.08887826,\n",
              "        -0.06179375,  0.04920399,  0.04920399, -0.06179375,  0.04920399,\n",
              "         0.04920399, -0.06179375, -0.12156123, -0.03454309,  0.04920399,\n",
              "        -0.03454309, -0.03454309, -0.06179375,  0.04920399,  0.0515258 ,\n",
              "        -0.08887826,  0.04920399, -0.06179375, -0.06179375, -0.08887826,\n",
              "        -0.03454309, -0.03454309, -0.09957557, -0.06179375, -0.06179375,\n",
              "         0.04920399, -0.03454309, -0.06179375,  0.08837548,  0.25833386,\n",
              "         0.04920399,  0.04920399,  0.25833386,  0.25833386,  0.25833386,\n",
              "         0.04920399, -0.08887826,  0.04920399, -0.08887826, -0.03454309,\n",
              "         0.25833386,  0.04920399, -0.08887826, -0.03454309, -0.06179375,\n",
              "        -0.03454309,  0.25833386,  0.25833386, -0.03454309, -0.08887826,\n",
              "        -0.03454309, -0.08887826]])"
            ]
          },
          "execution_count": 51,
          "metadata": {},
          "output_type": "execute_result"
        }
      ],
      "source": [
        "lsi.components_"
      ]
    },
    {
      "cell_type": "code",
      "execution_count": 52,
      "metadata": {},
      "outputs": [
        {
          "data": {
            "text/plain": [
              "0.5229249537209735"
            ]
          },
          "execution_count": 52,
          "metadata": {},
          "output_type": "execute_result"
        }
      ],
      "source": [
        "lsi.explained_variance_ratio_.sum()"
      ]
    },
    {
      "cell_type": "code",
      "execution_count": 53,
      "metadata": {},
      "outputs": [
        {
          "data": {
            "text/plain": [
              "0.5229249537209736"
            ]
          },
          "execution_count": 53,
          "metadata": {},
          "output_type": "execute_result"
        }
      ],
      "source": [
        "lsi2.explained_variance_ratio_.sum()"
      ]
    },
    {
      "cell_type": "code",
      "execution_count": null,
      "metadata": {},
      "outputs": [],
      "source": []
    },
    {
      "cell_type": "code",
      "execution_count": 54,
      "metadata": {
        "colab": {
          "base_uri": "https://localhost:8080/"
        },
        "id": "vXOj_mCT6_t9",
        "outputId": "48bc2590-9a51-4491-d938-8cc86576f8ea"
      },
      "outputs": [
        {
          "name": "stdout",
          "output_type": "stream",
          "text": [
            "Topic 0:  ['oil', 'reuters', 'prices', 'market', 'crude']\n",
            "Topic 1:  ['market', 'bets', 'carlyle', 'controversial', 'defense']\n",
            "Topic 2:  ['cynics', 'dwindling', 'green', 's', 'seeing']\n"
          ]
        }
      ],
      "source": [
        "# Print the topics with their terms\n",
        "for index, component in enumerate(lsi.components_):\n",
        "    zipped = zip(terms, component)\n",
        "    top_terms_key=sorted(zipped, key = lambda t: t[1], reverse=True)[:5]\n",
        "    top_terms_list=list(dict(top_terms_key).keys())\n",
        "    print(\"Topic \"+str(index)+\": \",top_terms_list)"
      ]
    },
    {
      "cell_type": "code",
      "execution_count": 50,
      "metadata": {
        "id": "49i5aFIf7KD_"
      },
      "outputs": [],
      "source": []
    }
  ],
  "metadata": {
    "colab": {
      "provenance": []
    },
    "kernelspec": {
      "display_name": "Python 3",
      "name": "python3"
    },
    "language_info": {
      "codemirror_mode": {
        "name": "ipython",
        "version": 3
      },
      "file_extension": ".py",
      "mimetype": "text/x-python",
      "name": "python",
      "nbconvert_exporter": "python",
      "pygments_lexer": "ipython3",
      "version": "3.10.13"
    }
  },
  "nbformat": 4,
  "nbformat_minor": 0
}
